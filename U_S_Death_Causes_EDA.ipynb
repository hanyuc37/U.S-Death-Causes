{
  "nbformat": 4,
  "nbformat_minor": 0,
  "metadata": {
    "colab": {
      "provenance": [],
      "mount_file_id": "1-uPmW9idGLxSsGkHiW7BvOT3NZJghgk0",
      "authorship_tag": "ABX9TyOPf/EPFGmvMVnqjszoU7zy",
      "include_colab_link": true
    },
    "kernelspec": {
      "name": "python3",
      "display_name": "Python 3"
    },
    "language_info": {
      "name": "python"
    }
  },
  "cells": [
    {
      "cell_type": "markdown",
      "metadata": {
        "id": "view-in-github",
        "colab_type": "text"
      },
      "source": [
        "<a href=\"https://colab.research.google.com/github/hanyuc37/U.S-Death-Causes/blob/main/U_S_Death_Causes_EDA.ipynb\" target=\"_parent\"><img src=\"https://colab.research.google.com/assets/colab-badge.svg\" alt=\"Open In Colab\"/></a>"
      ]
    },
    {
      "cell_type": "code",
      "execution_count": 167,
      "metadata": {
        "id": "FSN1yZS2ctGJ"
      },
      "outputs": [],
      "source": [
        "import pandas as pd\n",
        "import numpy as np\n",
        "import seaborn as sns\n",
        "import matplotlib.pyplot as plt\n",
        "from sklearn.linear_model import LinearRegression"
      ]
    },
    {
      "cell_type": "code",
      "source": [
        "data_1 = pd.read_csv(\"/content/drive/MyDrive/US Death Cause/Death_Rates1900-2013.csv\")\n",
        "data_2 = pd.read_csv(\"/content/drive/MyDrive/US Death Cause/leading_cause_death.csv\")"
      ],
      "metadata": {
        "id": "APj0m64wc7yE"
      },
      "execution_count": 168,
      "outputs": []
    },
    {
      "cell_type": "markdown",
      "source": [
        "#Data_1"
      ],
      "metadata": {
        "id": "pRI-3FFmWQYM"
      }
    },
    {
      "cell_type": "markdown",
      "source": [
        "**Data Preprocessing**"
      ],
      "metadata": {
        "id": "w0CK1jmzWslJ"
      }
    },
    {
      "cell_type": "code",
      "source": [
        "# Checking for NAs\n",
        "data_1.isna().sum()"
      ],
      "metadata": {
        "colab": {
          "base_uri": "https://localhost:8080/"
        },
        "id": "OYnVTAPn49_H",
        "outputId": "0215b25e-7740-4d25-f173-4fcef4168e26"
      },
      "execution_count": 169,
      "outputs": [
        {
          "output_type": "execute_result",
          "data": {
            "text/plain": [
              "Leading Causes             0\n",
              "Year                       0\n",
              "Age Adjusted Death Rate    0\n",
              "dtype: int64"
            ]
          },
          "metadata": {},
          "execution_count": 169
        }
      ]
    },
    {
      "cell_type": "code",
      "source": [
        "# Checking for duplicated values\n",
        "data_1.duplicated().sum()"
      ],
      "metadata": {
        "colab": {
          "base_uri": "https://localhost:8080/"
        },
        "id": "BCsVn-LWWjmX",
        "outputId": "1ccc31e3-7f2a-44e9-d49a-8988454c84b1"
      },
      "execution_count": 170,
      "outputs": [
        {
          "output_type": "execute_result",
          "data": {
            "text/plain": [
              "0"
            ]
          },
          "metadata": {},
          "execution_count": 170
        }
      ]
    },
    {
      "cell_type": "markdown",
      "source": [
        "**The distribution of AADR.**"
      ],
      "metadata": {
        "id": "j8dIOJ3LVGry"
      }
    },
    {
      "cell_type": "code",
      "source": [
        "sns.displot(data_1['Age Adjusted Death Rate'])\n",
        "plt.show()"
      ],
      "metadata": {
        "colab": {
          "base_uri": "https://localhost:8080/",
          "height": 369
        },
        "id": "7ab9Dg5aqFRh",
        "outputId": "d49f3c3a-a420-414f-c7c7-a686d4dd7b8b"
      },
      "execution_count": 171,
      "outputs": [
        {
          "output_type": "display_data",
          "data": {
            "text/plain": [
              "<Figure size 360x360 with 1 Axes>"
            ],
            "image/png": "[encoded data removed]"
          },
          "metadata": {
            "needs_background": "light"
          }
        }
      ]
    },
    {
      "cell_type": "markdown",
      "source": [
        "**Leading Causes by Median AADR**"
      ],
      "metadata": {
        "id": "8TII9fWwVLLl"
      }
    },
    {
      "cell_type": "code",
      "source": [
        "df_leading_cause = (pd.DataFrame(data_1.groupby(\"Leading Causes\")['Age Adjusted Death Rate'].median())).reset_index()"
      ],
      "metadata": {
        "id": "bjQ4MDQNeudp"
      },
      "execution_count": 172,
      "outputs": []
    },
    {
      "cell_type": "code",
      "source": [
        "df_leading_cause = df_leading_cause.rename(columns = {'Age Adjusted Death Rate': 'Median Age Adj Death Rate'})\n",
        "df_leading_cause = df_leading_cause.sort_values(\"Median Age Adj Death Rate\", ascending = False)\n",
        "g = sns.barplot(x = 'Leading Causes',\n",
        "            y = 'Median Age Adj Death Rate', \n",
        "            data = df_leading_cause,\n",
        "            palette ='YlOrRd_r'\n",
        "            )\n",
        "g.set_xticklabels(g.get_xticklabels(), rotation=15)\n",
        "g.set_title('Leading Causes by Median AADR')"
      ],
      "metadata": {
        "colab": {
          "base_uri": "https://localhost:8080/",
          "height": 345
        },
        "id": "vCVLic3Ql-0W",
        "outputId": "985eec3f-36bf-471e-ea74-5c108b03bf9c"
      },
      "execution_count": 173,
      "outputs": [
        {
          "output_type": "execute_result",
          "data": {
            "text/plain": [
              "Text(0.5, 1.0, 'Leading Causes by Median AADR')"
            ]
          },
          "metadata": {},
          "execution_count": 173
        },
        {
          "output_type": "display_data",
          "data": {
            "text/plain": [
              "<Figure size 432x288 with 1 Axes>"
            ],
            "image/png": "[encoded data removed]"
          },
          "metadata": {
            "needs_background": "light"
          }
        }
      ]
    },
    {
      "cell_type": "markdown",
      "source": [
        "Heart Diseases has the highest median AADR."
      ],
      "metadata": {
        "id": "G0Hf530QUskB"
      }
    },
    {
      "cell_type": "markdown",
      "source": [
        "**Leading Caused by ADDR Through out year of 1900 to 2013**"
      ],
      "metadata": {
        "id": "-YHWKb6QVUiC"
      }
    },
    {
      "cell_type": "code",
      "source": [
        "data_1 = data_1.sort_values('Year', ascending = True)\n",
        "sns.lineplot( x = 'Year', \n",
        "             y = 'Age Adjusted Death Rate', \n",
        "             hue = 'Leading Causes', \n",
        "             data = data_1)"
      ],
      "metadata": {
        "colab": {
          "base_uri": "https://localhost:8080/",
          "height": 296
        },
        "id": "47Gx2HZpwqwI",
        "outputId": "420acc7c-3646-4422-9570-ee9e1c853cea"
      },
      "execution_count": 174,
      "outputs": [
        {
          "output_type": "execute_result",
          "data": {
            "text/plain": [
              "<matplotlib.axes._subplots.AxesSubplot at 0x7f4c05175820>"
            ]
          },
          "metadata": {},
          "execution_count": 174
        },
        {
          "output_type": "display_data",
          "data": {
            "text/plain": [
              "<Figure size 432x288 with 1 Axes>"
            ],
            "image/png": "[encoded data removed]"
          },
          "metadata": {
            "needs_background": "light"
          }
        }
      ]
    },
    {
      "cell_type": "code",
      "source": [
        "data_1.loc[data_1['Leading Causes'] == 'Influenza and Pneumonia']['Age Adjusted Death Rate'].max()\n",
        "data_1.loc[data_1['Age Adjusted Death Rate']==612.4]"
      ],
      "metadata": {
        "colab": {
          "base_uri": "https://localhost:8080/",
          "height": 81
        },
        "id": "bKglRuz4x_SF",
        "outputId": "56e83557-21c6-4678-adf4-4f5501f4dd1d"
      },
      "execution_count": 175,
      "outputs": [
        {
          "output_type": "execute_result",
          "data": {
            "text/plain": [
              "              Leading Causes  Year  Age Adjusted Death Rate\n",
              "474  Influenza and Pneumonia  1918                    612.4"
            ],
            "text/html": [
              "\n",
              "  <div id=\"df-295761b3-0299-4c25-be8f-f248242ce748\">\n",
              "    <div class=\"colab-df-container\">\n",
              "      <div>\n",
              "<style scoped>\n",
              "    .dataframe tbody tr th:only-of-type {\n",
              "        vertical-align: middle;\n",
              "    }\n",
              "\n",
              "    .dataframe tbody tr th {\n",
              "        vertical-align: top;\n",
              "    }\n",
              "\n",
              "    .dataframe thead th {\n",
              "        text-align: right;\n",
              "    }\n",
              "</style>\n",
              "<table border=\"1\" class=\"dataframe\">\n",
              "  <thead>\n",
              "    <tr style=\"text-align: right;\">\n",
              "      <th></th>\n",
              "      <th>Leading Causes</th>\n",
              "      <th>Year</th>\n",
              "      <th>Age Adjusted Death Rate</th>\n",
              "    </tr>\n",
              "  </thead>\n",
              "  <tbody>\n",
              "    <tr>\n",
              "      <th>474</th>\n",
              "      <td>Influenza and Pneumonia</td>\n",
              "      <td>1918</td>\n",
              "      <td>612.4</td>\n",
              "    </tr>\n",
              "  </tbody>\n",
              "</table>\n",
              "</div>\n",
              "      <button class=\"colab-df-convert\" onclick=\"convertToInteractive('df-295761b3-0299-4c25-be8f-f248242ce748')\"\n",
              "              title=\"Convert this dataframe to an interactive table.\"\n",
              "              style=\"display:none;\">\n",
              "        \n",
              "  <svg xmlns=\"http://www.w3.org/2000/svg\" height=\"24px\"viewBox=\"0 0 24 24\"\n",
              "       width=\"24px\">\n",
              "    <path d=\"M0 0h24v24H0V0z\" fill=\"none\"/>\n",
              "    <path d=\"M18.56 5.44l.94 2.06.94-2.06 2.06-.94-2.06-.94-.94-2.06-.94 2.06-2.06.94zm-11 1L8.5 8.5l.94-2.06 2.06-.94-2.06-.94L8.5 2.5l-.94 2.06-2.06.94zm10 10l.94 2.06.94-2.06 2.06-.94-2.06-.94-.94-2.06-.94 2.06-2.06.94z\"/><path d=\"M17.41 7.96l-1.37-1.37c-.4-.4-.92-.59-1.43-.59-.52 0-1.04.2-1.43.59L10.3 9.45l-7.72 7.72c-.78.78-.78 2.05 0 2.83L4 21.41c.39.39.9.59 1.41.59.51 0 1.02-.2 1.41-.59l7.78-7.78 2.81-2.81c.8-.78.8-2.07 0-2.86zM5.41 20L4 18.59l7.72-7.72 1.47 1.35L5.41 20z\"/>\n",
              "  </svg>\n",
              "      </button>\n",
              "      \n",
              "  <style>\n",
              "    .colab-df-container {\n",
              "      display:flex;\n",
              "      flex-wrap:wrap;\n",
              "      gap: 12px;\n",
              "    }\n",
              "\n",
              "    .colab-df-convert {\n",
              "      background-color: #E8F0FE;\n",
              "      border: none;\n",
              "      border-radius: 50%;\n",
              "      cursor: pointer;\n",
              "      display: none;\n",
              "      fill: #1967D2;\n",
              "      height: 32px;\n",
              "      padding: 0 0 0 0;\n",
              "      width: 32px;\n",
              "    }\n",
              "\n",
              "    .colab-df-convert:hover {\n",
              "      background-color: #E2EBFA;\n",
              "      box-shadow: 0px 1px 2px rgba(60, 64, 67, 0.3), 0px 1px 3px 1px rgba(60, 64, 67, 0.15);\n",
              "      fill: #174EA6;\n",
              "    }\n",
              "\n",
              "    [theme=dark] .colab-df-convert {\n",
              "      background-color: #3B4455;\n",
              "      fill: #D2E3FC;\n",
              "    }\n",
              "\n",
              "    [theme=dark] .colab-df-convert:hover {\n",
              "      background-color: #434B5C;\n",
              "      box-shadow: 0px 1px 3px 1px rgba(0, 0, 0, 0.15);\n",
              "      filter: drop-shadow(0px 1px 2px rgba(0, 0, 0, 0.3));\n",
              "      fill: #FFFFFF;\n",
              "    }\n",
              "  </style>\n",
              "\n",
              "      <script>\n",
              "        const buttonEl =\n",
              "          document.querySelector('#df-295761b3-0299-4c25-be8f-f248242ce748 button.colab-df-convert');\n",
              "        buttonEl.style.display =\n",
              "          google.colab.kernel.accessAllowed ? 'block' : 'none';\n",
              "\n",
              "        async function convertToInteractive(key) {\n",
              "          const element = document.querySelector('#df-295761b3-0299-4c25-be8f-f248242ce748');\n",
              "          const dataTable =\n",
              "            await google.colab.kernel.invokeFunction('convertToInteractive',\n",
              "                                                     [key], {});\n",
              "          if (!dataTable) return;\n",
              "\n",
              "          const docLinkHtml = 'Like what you see? Visit the ' +\n",
              "            '<a target=\"_blank\" href=https://colab.research.google.com/notebooks/data_table.ipynb>data table notebook</a>'\n",
              "            + ' to learn more about interactive tables.';\n",
              "          element.innerHTML = '';\n",
              "          dataTable['output_type'] = 'display_data';\n",
              "          await google.colab.output.renderOutput(dataTable, element);\n",
              "          const docLink = document.createElement('div');\n",
              "          docLink.innerHTML = docLinkHtml;\n",
              "          element.appendChild(docLink);\n",
              "        }\n",
              "      </script>\n",
              "    </div>\n",
              "  </div>\n",
              "  "
            ]
          },
          "metadata": {},
          "execution_count": 175
        }
      ]
    },
    {
      "cell_type": "markdown",
      "source": [
        "The 1918 influenza pandemic was the most severe pandemic in recent history. It was caused by an H1N1 virus with genes of avian origin."
      ],
      "metadata": {
        "id": "sqrVfos52_FX"
      }
    },
    {
      "cell_type": "markdown",
      "source": [
        "#Data_2\n"
      ],
      "metadata": {
        "id": "RCDgWCWxV4y8"
      }
    },
    {
      "cell_type": "markdown",
      "source": [
        "**Data Preprocessing**"
      ],
      "metadata": {
        "id": "Q2RbC4wlWYHS"
      }
    },
    {
      "cell_type": "code",
      "source": [
        "data_2.info()"
      ],
      "metadata": {
        "colab": {
          "base_uri": "https://localhost:8080/"
        },
        "id": "uSbsSxmU3C1X",
        "outputId": "6b32cba6-450d-4878-9765-2c7cfb5acc94"
      },
      "execution_count": 176,
      "outputs": [
        {
          "output_type": "stream",
          "name": "stdout",
          "text": [
            "<class 'pandas.core.frame.DataFrame'>\n",
            "RangeIndex: 13260 entries, 0 to 13259\n",
            "Data columns (total 6 columns):\n",
            " #   Column          Non-Null Count  Dtype \n",
            "---  ------          --------------  ----- \n",
            " 0   YEAR            13260 non-null  int64 \n",
            " 1   113_CAUSE_NAME  13260 non-null  object\n",
            " 2   CAUSE_NAME      13260 non-null  object\n",
            " 3   STATE           13260 non-null  object\n",
            " 4   DEATHS          13260 non-null  object\n",
            " 5   AADR            13260 non-null  object\n",
            "dtypes: int64(1), object(5)\n",
            "memory usage: 621.7+ KB\n"
          ]
        }
      ]
    },
    {
      "cell_type": "code",
      "source": [
        "# Checking for NAs\n",
        "data_2.isna().sum()"
      ],
      "metadata": {
        "colab": {
          "base_uri": "https://localhost:8080/"
        },
        "id": "aSKawwzSWxTe",
        "outputId": "d8ca3783-6e16-4612-8f5a-69aef595eef5"
      },
      "execution_count": 177,
      "outputs": [
        {
          "output_type": "execute_result",
          "data": {
            "text/plain": [
              "YEAR              0\n",
              "113_CAUSE_NAME    0\n",
              "CAUSE_NAME        0\n",
              "STATE             0\n",
              "DEATHS            0\n",
              "AADR              0\n",
              "dtype: int64"
            ]
          },
          "metadata": {},
          "execution_count": 177
        }
      ]
    },
    {
      "cell_type": "code",
      "source": [
        "# Checking for duplicate values\n",
        "data_2.duplicated().sum()"
      ],
      "metadata": {
        "colab": {
          "base_uri": "https://localhost:8080/"
        },
        "id": "ziBB6JYEW00J",
        "outputId": "d6b64736-2c26-4d35-e2ba-7fcdcb195241"
      },
      "execution_count": 178,
      "outputs": [
        {
          "output_type": "execute_result",
          "data": {
            "text/plain": [
              "0"
            ]
          },
          "metadata": {},
          "execution_count": 178
        }
      ]
    },
    {
      "cell_type": "code",
      "source": [
        "# both Deaths and AADR contains strings that not able to convert，change them to 0\n",
        "\n",
        "data_2['DEATHS'] = pd.to_numeric(data_2['DEATHS'], errors='coerce').astype('Int64')\n",
        "data_2['DEATHS'] = data_2['DEATHS'].fillna(0).astype('int')\n",
        "\n",
        "data_2['AADR'] = pd.to_numeric(data_2['AADR'], errors='coerce').astype('float')\n",
        "data_2['AADR'] = data_2['AADR'].fillna(0).astype('float')\n"
      ],
      "metadata": {
        "id": "CBFiUzSw_pM1"
      },
      "execution_count": 179,
      "outputs": []
    },
    {
      "cell_type": "code",
      "source": [
        "data_2['STATE'].unique()\n",
        "# Delete rows that the state \"United Stated\"\n",
        "data_2 = data_2.loc[data_2['STATE'] != 'United States']"
      ],
      "metadata": {
        "id": "YHSv9MYO5EmL"
      },
      "execution_count": 180,
      "outputs": []
    },
    {
      "cell_type": "code",
      "source": [
        "data_2.info()"
      ],
      "metadata": {
        "colab": {
          "base_uri": "https://localhost:8080/"
        },
        "id": "cLeIGlSfksmz",
        "outputId": "45c618dc-f804-49ec-eb05-37890a13c7c5"
      },
      "execution_count": 181,
      "outputs": [
        {
          "output_type": "stream",
          "name": "stdout",
          "text": [
            "<class 'pandas.core.frame.DataFrame'>\n",
            "Int64Index: 13005 entries, 0 to 13259\n",
            "Data columns (total 6 columns):\n",
            " #   Column          Non-Null Count  Dtype  \n",
            "---  ------          --------------  -----  \n",
            " 0   YEAR            13005 non-null  int64  \n",
            " 1   113_CAUSE_NAME  13005 non-null  object \n",
            " 2   CAUSE_NAME      13005 non-null  object \n",
            " 3   STATE           13005 non-null  object \n",
            " 4   DEATHS          13005 non-null  int64  \n",
            " 5   AADR            13005 non-null  float64\n",
            "dtypes: float64(1), int64(2), object(3)\n",
            "memory usage: 711.2+ KB\n"
          ]
        }
      ]
    },
    {
      "cell_type": "markdown",
      "source": [
        "**Linear Regression of `AADR` and `DEATHS` through out the year from 1990 to 2013**"
      ],
      "metadata": {
        "id": "S6RVGQY6XEHl"
      }
    },
    {
      "cell_type": "code",
      "source": [
        "df_dea_aadr = pd.DataFrame(data_2.groupby('YEAR').aggregate({'DEATHS':'sum', 'AADR':'mean'})).reset_index()"
      ],
      "metadata": {
        "id": "5TerS8kdk-I7"
      },
      "execution_count": 182,
      "outputs": []
    },
    {
      "cell_type": "code",
      "source": [
        "df_dea_aadr = df_dea_aadr.sort_values(['YEAR'],ascending = True)\n",
        "\n",
        "fig = plt.figure()\n",
        "fig.set_figwidth(13)\n",
        "fig.set_figheight(4)\n",
        "\n",
        "ax1 = fig.add_subplot(121)\n",
        "ax1 = sns.scatterplot(x = 'YEAR', y = 'DEATHS', hue = 'YEAR',data = df_dea_aadr)\n",
        "sns.regplot(data=df_dea_aadr, x=\"YEAR\", y=\"DEATHS\", scatter=False, ax=ax1, ci = 95)\n",
        "ax2 = fig.add_subplot(122)\n",
        "ax2 = sns.scatterplot(x = 'YEAR', y = 'AADR', hue = 'YEAR', data = df_dea_aadr)\n",
        "sns.regplot(data=df_dea_aadr, x=\"YEAR\", y=\"AADR\", scatter=False, ax=ax2, ci = 95)\n",
        "plt.ylabel('Average AADR')\n",
        "plt.show()"
      ],
      "metadata": {
        "colab": {
          "base_uri": "https://localhost:8080/",
          "height": 290
        },
        "id": "OWrCpPW2nwD5",
        "outputId": "2f645eb7-7687-44b1-e5bb-11e9c8aa1ed0"
      },
      "execution_count": 218,
      "outputs": [
        {
          "output_type": "display_data",
          "data": {
            "text/plain": [
              "<Figure size 936x288 with 2 Axes>"
            ],
            "image/png": "[encoded data removed]"
          },
          "metadata": {
            "needs_background": "light"
          }
        }
      ]
    },
    {
      "cell_type": "markdown",
      "source": [
        "The first plot shows that with the increasing in years, it is expected to have an increasing in death, however, that can results in population aging and population expanding. \n",
        "\n",
        "By looking at the regression of average AADR through out year, with the increasing in years, it is expected to have a lower average AADR, which may results in the improvement on medical technologies."
      ],
      "metadata": {
        "id": "8kT45Rg0bE-1"
      }
    },
    {
      "cell_type": "code",
      "source": [
        "df_state = pd.DataFrame(data_2.groupby('STATE')['AADR'].mean()).reset_index()\n",
        "df_state = df_state.rename(columns = {'AADR': 'AVG_AADR'})\n",
        "df_state = df_state.sort_values('AVG_AADR', ascending = False).reset_index()\n",
        "del df_state['index']"
      ],
      "metadata": {
        "id": "fA010NybvUa_"
      },
      "execution_count": 184,
      "outputs": []
    },
    {
      "cell_type": "markdown",
      "source": [
        "Top 10 highest average AADR states"
      ],
      "metadata": {
        "id": "e3F0tUhZNPWF"
      }
    },
    {
      "cell_type": "code",
      "source": [
        "print(df_state[:10])"
      ],
      "metadata": {
        "colab": {
          "base_uri": "https://localhost:8080/"
        },
        "id": "cK73PHKKBgTs",
        "outputId": "3f3162cb-8320-418f-fa25-c5bb566cfb3e"
      },
      "execution_count": 185,
      "outputs": [
        {
          "output_type": "stream",
          "name": "stdout",
          "text": [
            "                  STATE    AVG_AADR\n",
            "0           Mississippi  108.216863\n",
            "1               Alabama  104.068824\n",
            "2         West Virginia  103.712392\n",
            "3             Louisiana  103.011176\n",
            "4              Kentucky  102.589647\n",
            "5              Oklahoma  102.392157\n",
            "6             Tennessee  100.561529\n",
            "7              Arkansas   99.976941\n",
            "8  District of Columbia   96.550000\n",
            "9        South Carolina   95.790157\n"
          ]
        }
      ]
    },
    {
      "cell_type": "code",
      "source": [
        "data_2.head()"
      ],
      "metadata": {
        "colab": {
          "base_uri": "https://localhost:8080/",
          "height": 206
        },
        "id": "S9ho1-q_l3pQ",
        "outputId": "5d2a7546-16d7-4929-c7f0-89e9e7b00236"
      },
      "execution_count": 186,
      "outputs": [
        {
          "output_type": "execute_result",
          "data": {
            "text/plain": [
              "   YEAR                                     113_CAUSE_NAME  \\\n",
              "0  1999  Accidents (unintentional injuries) (V01-X59,Y8...   \n",
              "1  1999  Accidents (unintentional injuries) (V01-X59,Y8...   \n",
              "2  1999  Accidents (unintentional injuries) (V01-X59,Y8...   \n",
              "3  1999  Accidents (unintentional injuries) (V01-X59,Y8...   \n",
              "4  1999  Accidents (unintentional injuries) (V01-X59,Y8...   \n",
              "\n",
              "               CAUSE_NAME       STATE  DEATHS   AADR  \n",
              "0  Unintentional Injuries     Alabama    2313  52.17  \n",
              "1  Unintentional Injuries      Alaska     294  55.91  \n",
              "2  Unintentional Injuries     Arizona    2214  44.79  \n",
              "3  Unintentional Injuries    Arkansas    1287  47.56  \n",
              "4  Unintentional Injuries  California    9198  28.71  "
            ],
            "text/html": [
              "\n",
              "  <div id=\"df-65b8ec12-5f10-47e7-a907-b50572c8a7fd\">\n",
              "    <div class=\"colab-df-container\">\n",
              "      <div>\n",
              "<style scoped>\n",
              "    .dataframe tbody tr th:only-of-type {\n",
              "        vertical-align: middle;\n",
              "    }\n",
              "\n",
              "    .dataframe tbody tr th {\n",
              "        vertical-align: top;\n",
              "    }\n",
              "\n",
              "    .dataframe thead th {\n",
              "        text-align: right;\n",
              "    }\n",
              "</style>\n",
              "<table border=\"1\" class=\"dataframe\">\n",
              "  <thead>\n",
              "    <tr style=\"text-align: right;\">\n",
              "      <th></th>\n",
              "      <th>YEAR</th>\n",
              "      <th>113_CAUSE_NAME</th>\n",
              "      <th>CAUSE_NAME</th>\n",
              "      <th>STATE</th>\n",
              "      <th>DEATHS</th>\n",
              "      <th>AADR</th>\n",
              "    </tr>\n",
              "  </thead>\n",
              "  <tbody>\n",
              "    <tr>\n",
              "      <th>0</th>\n",
              "      <td>1999</td>\n",
              "      <td>Accidents (unintentional injuries) (V01-X59,Y8...</td>\n",
              "      <td>Unintentional Injuries</td>\n",
              "      <td>Alabama</td>\n",
              "      <td>2313</td>\n",
              "      <td>52.17</td>\n",
              "    </tr>\n",
              "    <tr>\n",
              "      <th>1</th>\n",
              "      <td>1999</td>\n",
              "      <td>Accidents (unintentional injuries) (V01-X59,Y8...</td>\n",
              "      <td>Unintentional Injuries</td>\n",
              "      <td>Alaska</td>\n",
              "      <td>294</td>\n",
              "      <td>55.91</td>\n",
              "    </tr>\n",
              "    <tr>\n",
              "      <th>2</th>\n",
              "      <td>1999</td>\n",
              "      <td>Accidents (unintentional injuries) (V01-X59,Y8...</td>\n",
              "      <td>Unintentional Injuries</td>\n",
              "      <td>Arizona</td>\n",
              "      <td>2214</td>\n",
              "      <td>44.79</td>\n",
              "    </tr>\n",
              "    <tr>\n",
              "      <th>3</th>\n",
              "      <td>1999</td>\n",
              "      <td>Accidents (unintentional injuries) (V01-X59,Y8...</td>\n",
              "      <td>Unintentional Injuries</td>\n",
              "      <td>Arkansas</td>\n",
              "      <td>1287</td>\n",
              "      <td>47.56</td>\n",
              "    </tr>\n",
              "    <tr>\n",
              "      <th>4</th>\n",
              "      <td>1999</td>\n",
              "      <td>Accidents (unintentional injuries) (V01-X59,Y8...</td>\n",
              "      <td>Unintentional Injuries</td>\n",
              "      <td>California</td>\n",
              "      <td>9198</td>\n",
              "      <td>28.71</td>\n",
              "    </tr>\n",
              "  </tbody>\n",
              "</table>\n",
              "</div>\n",
              "      <button class=\"colab-df-convert\" onclick=\"convertToInteractive('df-65b8ec12-5f10-47e7-a907-b50572c8a7fd')\"\n",
              "              title=\"Convert this dataframe to an interactive table.\"\n",
              "              style=\"display:none;\">\n",
              "        \n",
              "  <svg xmlns=\"http://www.w3.org/2000/svg\" height=\"24px\"viewBox=\"0 0 24 24\"\n",
              "       width=\"24px\">\n",
              "    <path d=\"M0 0h24v24H0V0z\" fill=\"none\"/>\n",
              "    <path d=\"M18.56 5.44l.94 2.06.94-2.06 2.06-.94-2.06-.94-.94-2.06-.94 2.06-2.06.94zm-11 1L8.5 8.5l.94-2.06 2.06-.94-2.06-.94L8.5 2.5l-.94 2.06-2.06.94zm10 10l.94 2.06.94-2.06 2.06-.94-2.06-.94-.94-2.06-.94 2.06-2.06.94z\"/><path d=\"M17.41 7.96l-1.37-1.37c-.4-.4-.92-.59-1.43-.59-.52 0-1.04.2-1.43.59L10.3 9.45l-7.72 7.72c-.78.78-.78 2.05 0 2.83L4 21.41c.39.39.9.59 1.41.59.51 0 1.02-.2 1.41-.59l7.78-7.78 2.81-2.81c.8-.78.8-2.07 0-2.86zM5.41 20L4 18.59l7.72-7.72 1.47 1.35L5.41 20z\"/>\n",
              "  </svg>\n",
              "      </button>\n",
              "      \n",
              "  <style>\n",
              "    .colab-df-container {\n",
              "      display:flex;\n",
              "      flex-wrap:wrap;\n",
              "      gap: 12px;\n",
              "    }\n",
              "\n",
              "    .colab-df-convert {\n",
              "      background-color: #E8F0FE;\n",
              "      border: none;\n",
              "      border-radius: 50%;\n",
              "      cursor: pointer;\n",
              "      display: none;\n",
              "      fill: #1967D2;\n",
              "      height: 32px;\n",
              "      padding: 0 0 0 0;\n",
              "      width: 32px;\n",
              "    }\n",
              "\n",
              "    .colab-df-convert:hover {\n",
              "      background-color: #E2EBFA;\n",
              "      box-shadow: 0px 1px 2px rgba(60, 64, 67, 0.3), 0px 1px 3px 1px rgba(60, 64, 67, 0.15);\n",
              "      fill: #174EA6;\n",
              "    }\n",
              "\n",
              "    [theme=dark] .colab-df-convert {\n",
              "      background-color: #3B4455;\n",
              "      fill: #D2E3FC;\n",
              "    }\n",
              "\n",
              "    [theme=dark] .colab-df-convert:hover {\n",
              "      background-color: #434B5C;\n",
              "      box-shadow: 0px 1px 3px 1px rgba(0, 0, 0, 0.15);\n",
              "      filter: drop-shadow(0px 1px 2px rgba(0, 0, 0, 0.3));\n",
              "      fill: #FFFFFF;\n",
              "    }\n",
              "  </style>\n",
              "\n",
              "      <script>\n",
              "        const buttonEl =\n",
              "          document.querySelector('#df-65b8ec12-5f10-47e7-a907-b50572c8a7fd button.colab-df-convert');\n",
              "        buttonEl.style.display =\n",
              "          google.colab.kernel.accessAllowed ? 'block' : 'none';\n",
              "\n",
              "        async function convertToInteractive(key) {\n",
              "          const element = document.querySelector('#df-65b8ec12-5f10-47e7-a907-b50572c8a7fd');\n",
              "          const dataTable =\n",
              "            await google.colab.kernel.invokeFunction('convertToInteractive',\n",
              "                                                     [key], {});\n",
              "          if (!dataTable) return;\n",
              "\n",
              "          const docLinkHtml = 'Like what you see? Visit the ' +\n",
              "            '<a target=\"_blank\" href=https://colab.research.google.com/notebooks/data_table.ipynb>data table notebook</a>'\n",
              "            + ' to learn more about interactive tables.';\n",
              "          element.innerHTML = '';\n",
              "          dataTable['output_type'] = 'display_data';\n",
              "          await google.colab.output.renderOutput(dataTable, element);\n",
              "          const docLink = document.createElement('div');\n",
              "          docLink.innerHTML = docLinkHtml;\n",
              "          element.appendChild(docLink);\n",
              "        }\n",
              "      </script>\n",
              "    </div>\n",
              "  </div>\n",
              "  "
            ]
          },
          "metadata": {},
          "execution_count": 186
        }
      ]
    },
    {
      "cell_type": "markdown",
      "source": [
        "**Ranked Diseased by Average AADR**"
      ],
      "metadata": {
        "id": "aK6VWgYviUA8"
      }
    },
    {
      "cell_type": "code",
      "source": [
        "df_cause = pd.DataFrame(data_2.groupby('CAUSE_NAME').aggregate({'AADR':'mean', 'DEATHS':'sum'})).reset_index()\n",
        "df_cause = df_cause.rename(columns ={'AADR':'AVG_AADR', 'DEATHS':'TOTAL DEATHS'})\n",
        "# Remove 'All Causes'\n",
        "df_cause = df_cause[df_cause['CAUSE_NAME']!='All Causes']"
      ],
      "metadata": {
        "id": "98m_hCHjmOYr"
      },
      "execution_count": 187,
      "outputs": []
    },
    {
      "cell_type": "code",
      "source": [
        "df_cause = df_cause.sort_values('AVG_AADR', ascending = True)"
      ],
      "metadata": {
        "id": "TkWvuJC1Dcyz"
      },
      "execution_count": 188,
      "outputs": []
    },
    {
      "cell_type": "code",
      "source": [
        "col_map = plt.get_cmap('Set3')\n",
        "df_cause.plot.barh(x='CAUSE_NAME', y='AVG_AADR', title='Ranked Diseases by Avergae AADR', color=col_map.colors)\n",
        "plt.show()"
      ],
      "metadata": {
        "colab": {
          "base_uri": "https://localhost:8080/",
          "height": 281
        },
        "id": "ZTo82SlPG0Jx",
        "outputId": "b8e8faf0-6a7d-451e-9672-7a7f0e9385db"
      },
      "execution_count": 189,
      "outputs": [
        {
          "output_type": "display_data",
          "data": {
            "text/plain": [
              "<Figure size 432x288 with 1 Axes>"
            ],
            "image/png": "[encoded data removed]"
          },
          "metadata": {
            "needs_background": "light"
          }
        }
      ]
    },
    {
      "cell_type": "code",
      "source": [
        "df_cause['PERCENTAGE'] = df_cause['TOTAL DEATHS'] / sum(df_cause['TOTAL DEATHS'])\n",
        "df_cause = df_cause.sort_values('PERCENTAGE',ascending = False)"
      ],
      "metadata": {
        "id": "M1hr6llCMiib"
      },
      "execution_count": 190,
      "outputs": []
    },
    {
      "cell_type": "code",
      "source": [
        "values = [x for x in df_cause['PERCENTAGE'][:5]]\n",
        "values.append(sum(df_cause['PERCENTAGE'][5:]))\n",
        "keys = [i for i in df_cause['CAUSE_NAME'][:5]]\n",
        "keys.append('Others')"
      ],
      "metadata": {
        "id": "ZmnlERGiQq8v"
      },
      "execution_count": 191,
      "outputs": []
    },
    {
      "cell_type": "code",
      "source": [
        "df_cause['PERCENTAGE']\n",
        "colors = sns.color_palette('flare_r')\n",
        "plt.pie(values, \n",
        "        labels=keys, \n",
        "        colors=colors,autopct='%.0f%%', \n",
        "        shadow=True)\n",
        "plt.show()"
      ],
      "metadata": {
        "colab": {
          "base_uri": "https://localhost:8080/",
          "height": 248
        },
        "id": "_5WX0AGfOv0U",
        "outputId": "21e7f165-060d-4ac2-d4fe-d7ae6ceec5a6"
      },
      "execution_count": 192,
      "outputs": [
        {
          "output_type": "display_data",
          "data": {
            "text/plain": [
              "<Figure size 432x288 with 1 Axes>"
            ],
            "image/png": "[encoded data removed]"
          },
          "metadata": {}
        }
      ]
    },
    {
      "cell_type": "markdown",
      "source": [
        "\n",
        "Heart diseases and cancer are the two highest cause of death in the U.S, which accounted for 32% and 28% of death among all diseases included in the dataset\n"
      ],
      "metadata": {
        "id": "GCkMbnpoivBr"
      }
    }
  ]
}